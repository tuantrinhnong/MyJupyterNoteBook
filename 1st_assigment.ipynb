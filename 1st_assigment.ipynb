{
 "cells": [
  {
   "cell_type": "markdown",
   "id": "b8b6c43a-0ef3-4f2e-9338-fc6459063a29",
   "metadata": {},
   "source": [
    "Ex2\n",
    "<h1 style = 'color : red'>Peer-graded Assignment</h1>\n"
   ]
  },
  {
   "cell_type": "markdown",
   "id": "b3c6648b-c14e-4407-a912-86bef1b8836b",
   "metadata": {},
   "source": [
    "## Ex3\n",
    "Name: Tuan<br>\n",
    "age: 19"
   ]
  },
  {
   "cell_type": "markdown",
   "id": "00f44623-1d6c-4e6b-8d14-340a37fe3212",
   "metadata": {
    "jp-MarkdownHeadingCollapsed": true
   },
   "source": [
    "## Ex4:\n",
    "1. R\n",
    "2. Python\n",
    "3. Java\n",
    "4. Javs script\n",
    "5. SQL\n",
    "6. Stata"
   ]
  },
  {
   "cell_type": "markdown",
   "id": "f5da4838-16a4-4793-9c6d-7b88cb9b5a99",
   "metadata": {},
   "source": [
    "## Ex5:\n",
    "### Python\n",
    "1. numpy\n",
    "2. pandas\n",
    "3. matplotlib\n",
    "4. sci-kit learn\n",
    "5. TensorFlow\n",
    "6. Keras\n",
    "### R\n",
    "1. ggplot2\n",
    "2. cerat\n",
    "\n"
   ]
  },
  {
   "cell_type": "markdown",
   "id": "0e2612d7-09cb-40ba-b6f7-407d59458564",
   "metadata": {},
   "source": [
    "## Ex6\n",
    "| **Category**                      | **Tool**                 | **Description**                                                           | **Supported Languages**  |\n",
    "|-----------------------------------|--------------------------|----------------------------------------------------------------------------|--------------------------|\n",
    "| **Programming Languages**         | Python                   | A versatile language, widely used in Data Science with extensive libraries.| Python                   |\n",
    "|                                   | R                        | A statistical language, popular for data analysis and visualization.       | R                        |\n",
    "|                                   | SQL                      | A language for querying and managing relational databases.                 | SQL                      |\n",
    "| **Python Libraries**              | Pandas                   | Library for data manipulation and analysis, especially in tabular data.    | Python                   |\n",
    "|                                   | NumPy                    | Library for numerical computing, supports high-performance array operations.| Python                 |\n",
    "|                                   | Matplotlib               | A basic plotting library for creating static, animated, and interactive visualizations.| Python    |\n",
    "|                                   | Seaborn                  | Built on Matplotlib, provides beautiful default styles and color palettes. | Python                   |\n",
    "|                                   | Scikit-learn             | A robust library for machine learning and data mining.                     | Python                   |\n",
    "|                                   | TensorFlow               | A Google-developed library for deep learning and neural networks.          | Python                   |\n",
    "|                                   | PyTorch                  | A flexible deep learning library developed by Facebook.                    | Python                   |\n",
    "| **R Libraries**                   | ggplot2                  | A powerful library for creating complex plots in R.                        | R                        |\n",
    "|                                   | dplyr                    | Library for data manipulation, similar to Pandas in Python.                | R                        |\n",
    "|                                   | caret                    | A package for training machine learning models.                            | R                        |\n",
    "|                                   | Shiny                    | Framework for building interactive web apps directly from R.               | R                        |\n",
    "| **Platforms & Environments**      | Jupyter Notebook         | An interactive environment for Python, allowing you to combine code, text, and visuals. | Python     |\n",
    "|                                   | RStudio                  | A powerful IDE for R, supporting development of Shiny applications.        | R                        |\n",
    "|                                   | Anaconda                 | A distribution of Python and R, focused on Data Science and package management. | Python, R            |\n",
    "|                                   | Apache Spark             | A distributed system for big data processing, supporting machine learning and stream processing.| Python, Scala, R |\n",
    "| **Databases & Big Data**          | MySQL                    | An open-source relational database management system.                      | SQL                      |\n",
    "|                                   | PostgreSQL               | A powerful, open-source relational database system with advanced features. | SQL                      |\n",
    "|                                   | MongoDB                  | A NoSQL database known for its flexibility in handling large data volumes. | MongoDB Query Language    |\n",
    "|                                   | Hadoop                   | An open-source framework for distributed storage and processing of large data sets. | Java, Python, Scala  |\n",
    "| **Data Visualization**            | Tableau                  | A leading software for creating interactive and shareable dashboards.      | N/A                      |\n",
    "|                                   | Power BI                 | Microsoft's data visualization tool, integrates well with other Microsoft services. | N/A                |\n",
    "|                                   | Plotly                   | Libraries for creating interactive plots, dashboards, and web applications. | Python, R                |\n",
    "| **Version Control & Collaboration**| Git                     | A distributed version control system, essential for software development.  | N/A                      |\n",
    "|                                   | GitHub                   | An online platform for hosting Git repositories, supporting collaboration and CI/CD. | N/A                |\n",
    "|                                   | GitLab                   | Similar to GitHub but with more advanced CI/CD features.                   | N/A                      |\n"
   ]
  },
  {
   "cell_type": "markdown",
   "id": "ea211930-53c9-467b-8bd2-2d07f3826074",
   "metadata": {},
   "source": [
    "## Ex7:\n",
    "In this section, we will explore some basic arithmetic expressions, including addition, subtraction, multiplication, and division.\n"
   ]
  },
  {
   "cell_type": "code",
   "execution_count": 21,
   "id": "ff72149f-d429-45a0-ac4d-b42ed9f4434d",
   "metadata": {},
   "outputs": [
    {
     "data": {
      "text/plain": [
       "3"
      ]
     },
     "execution_count": 21,
     "metadata": {},
     "output_type": "execute_result"
    }
   ],
   "source": [
    "# Ex8:\n",
    "x = 1\n",
    "y = 2\n",
    "res = x+y*x\n",
    "res\n",
    "\n"
   ]
  },
  {
   "cell_type": "code",
   "execution_count": 23,
   "id": "96dd4e35-9e7b-479e-ab47-6d678d30d345",
   "metadata": {},
   "outputs": [
    {
     "data": {
      "text/plain": [
       "20.566666666666666"
      ]
     },
     "execution_count": 23,
     "metadata": {},
     "output_type": "execute_result"
    }
   ],
   "source": [
    "# Ex9:\n",
    "min = 1234\n",
    "hours = min/60\n",
    "hours"
   ]
  },
  {
   "cell_type": "markdown",
   "id": "cbcadf11-92b3-4c6f-9018-a69a6e01a348",
   "metadata": {},
   "source": [
    "## Objectives\n",
    "- Understand the basics of arithmetic operations.\n",
    "- Practice writing simple code for mathematical calculations.\n",
    "- Learn how to convert time units from minutes to hours.\n",
    "\n"
   ]
  },
  {
   "cell_type": "markdown",
   "id": "9a9bf375-2b78-40a8-9b09-e653a5819b1d",
   "metadata": {},
   "source": [
    "<h2 style = 'color : skyblue'> Ex10 </h2>\n",
    "**Author** [Tran Anh Tuan]"
   ]
  }
 ],
 "metadata": {
  "kernelspec": {
   "display_name": "Python 3 (ipykernel)",
   "language": "python",
   "name": "python3"
  },
  "language_info": {
   "codemirror_mode": {
    "name": "ipython",
    "version": 3
   },
   "file_extension": ".py",
   "mimetype": "text/x-python",
   "name": "python",
   "nbconvert_exporter": "python",
   "pygments_lexer": "ipython3",
   "version": "3.12.4"
  }
 },
 "nbformat": 4,
 "nbformat_minor": 5
}
